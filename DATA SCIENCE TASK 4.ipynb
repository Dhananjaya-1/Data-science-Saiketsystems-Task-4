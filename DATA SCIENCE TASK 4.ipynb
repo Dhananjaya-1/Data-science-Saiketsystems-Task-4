{
 "cells": [
  {
   "cell_type": "code",
   "execution_count": 1,
   "id": "d32e55bf",
   "metadata": {},
   "outputs": [],
   "source": [
    "import pandas as pd\n",
    "import pandas as pd\n",
    "from sklearn.model_selection import train_test_split, GridSearchCV, RandomizedSearchCV\n",
    "from sklearn.linear_model import LogisticRegression\n",
    "from sklearn.tree import DecisionTreeClassifier\n",
    "from sklearn.ensemble import RandomForestClassifier\n",
    "from sklearn.metrics import accuracy_score, precision_score, recall_score, f1_score, classification_report\n",
    "from sklearn.feature_selection import RFE\n",
    "\n",
    "# Load the data\n",
    "data = pd.read_csv('data1')\n",
    "\n",
    "# Encode categorical variables\n",
    "data_encoded = pd.get_dummies(data, drop_first=True)\n"
   ]
  },
  {
   "cell_type": "code",
   "execution_count": 2,
   "id": "ecef442c",
   "metadata": {},
   "outputs": [],
   "source": [
    "# 1. Data Preparation\n",
    "X = data_encoded.drop(columns='Churn_Yes')  # Features\n",
    "y = data_encoded['Churn_Yes']  # Target (Churn column encoded as 0/1)\n",
    "\n",
    "# Split the data into training and testing sets\n",
    "X_train, X_test, y_train, y_test = train_test_split(X, y, test_size=0.2, random_state=42)\n"
   ]
  },
  {
   "cell_type": "code",
   "execution_count": 3,
   "id": "eff63422",
   "metadata": {},
   "outputs": [
    {
     "name": "stdout",
     "output_type": "stream",
     "text": [
      "Model: Logistic Regression\n",
      "Accuracy: 0.8247\n",
      "Precision: 0.7006\n",
      "Recall: 0.5898\n",
      "F1 Score: 0.6405\n",
      "\n",
      "\n",
      "Model: Decision Tree\n",
      "Accuracy: 0.7750\n",
      "Precision: 0.5875\n",
      "Recall: 0.5040\n",
      "F1 Score: 0.5426\n",
      "\n",
      "\n",
      "Model: Random Forest\n",
      "Accuracy: 0.7921\n",
      "Precision: 0.6818\n",
      "Recall: 0.4021\n",
      "F1 Score: 0.5059\n",
      "\n",
      "\n"
     ]
    }
   ],
   "source": [
    "# Model dictionary with increased max_iter for Logistic Regression\n",
    "models = {\n",
    "    'Logistic Regression': LogisticRegression(max_iter=5000),  # Start with 500, increase if needed\n",
    "    'Decision Tree': DecisionTreeClassifier(),\n",
    "    'Random Forest': RandomForestClassifier()\n",
    "}\n",
    "\n",
    "# Dictionary to store the evaluation metrics\n",
    "model_scores = {}\n",
    "\n",
    "for name, model in models.items():\n",
    "    # Train the model\n",
    "    model.fit(X_train, y_train)\n",
    "    \n",
    "    # Make predictions\n",
    "    y_pred = model.predict(X_test)\n",
    "    \n",
    "    # Evaluate the model\n",
    "    accuracy = accuracy_score(y_test, y_pred)\n",
    "    precision = precision_score(y_test, y_pred)\n",
    "    recall = recall_score(y_test, y_pred)\n",
    "    f1 = f1_score(y_test, y_pred)\n",
    "    \n",
    "    # Store the results\n",
    "    model_scores[name] = {\n",
    "        'Accuracy': accuracy,\n",
    "        'Precision': precision,\n",
    "        'Recall': recall,\n",
    "        'F1 Score': f1\n",
    "    }\n",
    "\n",
    "# Display model performance\n",
    "for model_name, scores in model_scores.items():\n",
    "    print(f\"Model: {model_name}\")\n",
    "    for metric, score in scores.items():\n",
    "        print(f\"{metric}: {score:.4f}\")\n",
    "    print(\"\\n\")"
   ]
  },
  {
   "cell_type": "code",
   "execution_count": 4,
   "id": "8979996b",
   "metadata": {},
   "outputs": [
    {
     "name": "stdout",
     "output_type": "stream",
     "text": [
      "Selected Features: ['SeniorCitizen', 'tenure', 'MonthlyCharges', 'gender_Male', 'Partner_Yes', 'Dependents_Yes', 'InternetService_Fiber optic', 'OnlineBackup_Yes', 'PaperlessBilling_Yes', 'PaymentMethod_Electronic check']\n"
     ]
    }
   ],
   "source": [
    "# 3. Feature Selection using Recursive Feature Elimination (RFE)\n",
    "# Using Decision Tree for faster RFE and increased step size\n",
    "selector = RFE(DecisionTreeClassifier(), n_features_to_select=10, step=10)  # Increased step to 5\n",
    "selector = selector.fit(X_train, y_train)\n",
    "\n",
    "# Get the selected features\n",
    "selected_features = X.columns[selector.support_]\n",
    "print(f\"Selected Features: {selected_features.tolist()}\")\n"
   ]
  },
  {
   "cell_type": "code",
   "execution_count": 5,
   "id": "93d8d9f4",
   "metadata": {},
   "outputs": [
    {
     "name": "stdout",
     "output_type": "stream",
     "text": [
      "Best Parameters: {'n_estimators': 100, 'min_samples_split': 2, 'max_depth': None}\n",
      "\n",
      "Classification Report for Best Model:\n",
      "              precision    recall  f1-score   support\n",
      "\n",
      "       False       0.82      0.94      0.87      1036\n",
      "        True       0.70      0.42      0.52       373\n",
      "\n",
      "    accuracy                           0.80      1409\n",
      "   macro avg       0.76      0.68      0.70      1409\n",
      "weighted avg       0.79      0.80      0.78      1409\n",
      "\n",
      "Best Model Performance:\n",
      "{'Accuracy': 0.7984386089425124, 'Precision': 0.6995515695067265, 'Recall': 0.41823056300268097, 'F1 Score': 0.5234899328859061}\n"
     ]
    }
   ],
   "source": [
    "# 4. Hyperparameter Tuning for the Best Model (e.g., Random Forest)\n",
    "# Use RandomizedSearchCV for quicker tuning\n",
    "param_grid = {\n",
    "    'n_estimators': [50, 100, 150],\n",
    "    'max_depth': [None, 10, 20],\n",
    "    'min_samples_split': [2, 5]\n",
    "}\n",
    "\n",
    "# RandomizedSearchCV for faster hyperparameter tuning\n",
    "random_search = RandomizedSearchCV(RandomForestClassifier(), param_grid, cv=5, scoring='f1', n_iter=10, n_jobs=-1)\n",
    "random_search.fit(X_train, y_train)\n",
    "\n",
    "# Best parameters from Random Search\n",
    "print(f\"Best Parameters: {random_search.best_params_}\")\n",
    "\n",
    "# Evaluate the best model\n",
    "best_model = random_search.best_estimator_\n",
    "y_pred_best = best_model.predict(X_test)\n",
    "\n",
    "print(\"\\nClassification Report for Best Model:\")\n",
    "print(classification_report(y_test, y_pred_best))\n",
    "\n",
    "# Model performance for the best model\n",
    "best_model_scores = {\n",
    "    'Accuracy': accuracy_score(y_test, y_pred_best),\n",
    "    'Precision': precision_score(y_test, y_pred_best),\n",
    "    'Recall': recall_score(y_test, y_pred_best),\n",
    "    'F1 Score': f1_score(y_test, y_pred_best)\n",
    "}\n",
    "\n",
    "print(f\"Best Model Performance:\\n{best_model_scores}\")"
   ]
  }
 ],
 "metadata": {
  "kernelspec": {
   "display_name": "Python 3 (ipykernel)",
   "language": "python",
   "name": "python3"
  },
  "language_info": {
   "codemirror_mode": {
    "name": "ipython",
    "version": 3
   },
   "file_extension": ".py",
   "mimetype": "text/x-python",
   "name": "python",
   "nbconvert_exporter": "python",
   "pygments_lexer": "ipython3",
   "version": "3.11.5"
  }
 },
 "nbformat": 4,
 "nbformat_minor": 5
}
